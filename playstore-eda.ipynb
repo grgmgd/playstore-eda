{
 "cells": [
  {
   "cell_type": "markdown",
   "metadata": {},
   "source": [
    "<div style=\"background-color: #FF3CAC; background-image: linear-gradient(225deg, #FF3CAC 0%, #784BA0 50%, #2B86C5 100%); padding: 20px; border-radius: 10px; display:flex; flex-direction: row;\"> \n",
    "    <img style=\"width: auto; height: 80px; margin: 0; object-fit: contain;\" src=\"https://www.freepnglogos.com/uploads/google-play-png-logo/google-changes-play-store-png-logo-0.png\"/>\n",
    "    <div style=\"flex: 1\">\n",
    "        <h1 style=\"color:white;\">Android Play Store Dataset Cleaning</h1>\n",
    "        <strong><a style=\"color:white\" href=\"https://www.kaggle.com/lava18/google-play-store-apps\">Dataset link</a></strong>\n",
    "    </div>\n",
    "</div>"
   ]
  },
  {
   "cell_type": "code",
   "execution_count": 590,
   "metadata": {},
   "outputs": [],
   "source": [
    "import numpy as np\n",
    "import pandas as pd\n",
    "import matplotlib.pyplot as plt\n",
    "import seaborn as sns"
   ]
  },
  {
   "cell_type": "markdown",
   "metadata": {},
   "source": [
    "<div style=\"background-color: #FF3CAC; background-image: linear-gradient(225deg, #FF3CAC 0%, #784BA0 50%, #2B86C5 100%); padding: 15px; border-radius: 10px\"> \n",
    "    <h2 style=\"color:white;\">1. Dataset Reading</h2>\n",
    "    <strong style=\"color:white\">dicovering the dataset and get a notion of what the attributes describe.</strong>\n",
    "</div>"
   ]
  },
  {
   "cell_type": "code",
   "execution_count": 549,
   "metadata": {
    "scrolled": true
   },
   "outputs": [
    {
     "data": {
      "text/html": [
       "<div>\n",
       "<style scoped>\n",
       "    .dataframe tbody tr th:only-of-type {\n",
       "        vertical-align: middle;\n",
       "    }\n",
       "\n",
       "    .dataframe tbody tr th {\n",
       "        vertical-align: top;\n",
       "    }\n",
       "\n",
       "    .dataframe thead th {\n",
       "        text-align: right;\n",
       "    }\n",
       "</style>\n",
       "<table border=\"1\" class=\"dataframe\">\n",
       "  <thead>\n",
       "    <tr style=\"text-align: right;\">\n",
       "      <th></th>\n",
       "      <th>App</th>\n",
       "      <th>Category</th>\n",
       "      <th>Rating</th>\n",
       "      <th>Reviews</th>\n",
       "      <th>Size</th>\n",
       "      <th>Installs</th>\n",
       "      <th>Type</th>\n",
       "      <th>Price</th>\n",
       "      <th>Content Rating</th>\n",
       "      <th>Genres</th>\n",
       "      <th>Last Updated</th>\n",
       "      <th>Current Ver</th>\n",
       "      <th>Android Ver</th>\n",
       "    </tr>\n",
       "  </thead>\n",
       "  <tbody>\n",
       "    <tr>\n",
       "      <th>4996</th>\n",
       "      <td>AE Jewels 2: Island Adventures</td>\n",
       "      <td>GAME</td>\n",
       "      <td>4.2</td>\n",
       "      <td>652</td>\n",
       "      <td>30M</td>\n",
       "      <td>10,000+</td>\n",
       "      <td>Free</td>\n",
       "      <td>0</td>\n",
       "      <td>Everyone</td>\n",
       "      <td>Action</td>\n",
       "      <td>February 24, 2016</td>\n",
       "      <td>1.0</td>\n",
       "      <td>2.3 and up</td>\n",
       "    </tr>\n",
       "    <tr>\n",
       "      <th>9879</th>\n",
       "      <td>Passenger rights</td>\n",
       "      <td>TRAVEL_AND_LOCAL</td>\n",
       "      <td>3.9</td>\n",
       "      <td>442</td>\n",
       "      <td>2.5M</td>\n",
       "      <td>50,000+</td>\n",
       "      <td>Free</td>\n",
       "      <td>0</td>\n",
       "      <td>Everyone</td>\n",
       "      <td>Travel &amp; Local</td>\n",
       "      <td>January 16, 2018</td>\n",
       "      <td>1.1.3</td>\n",
       "      <td>4.0.3 and up</td>\n",
       "    </tr>\n",
       "    <tr>\n",
       "      <th>55</th>\n",
       "      <td>Tickets SDA 2018 and Exam from the State Traff...</td>\n",
       "      <td>AUTO_AND_VEHICLES</td>\n",
       "      <td>4.9</td>\n",
       "      <td>10479</td>\n",
       "      <td>33M</td>\n",
       "      <td>100,000+</td>\n",
       "      <td>Free</td>\n",
       "      <td>0</td>\n",
       "      <td>Everyone</td>\n",
       "      <td>Auto &amp; Vehicles</td>\n",
       "      <td>July 18, 2018</td>\n",
       "      <td>1.7.1</td>\n",
       "      <td>4.0 and up</td>\n",
       "    </tr>\n",
       "    <tr>\n",
       "      <th>4274</th>\n",
       "      <td>J. Cole Albums (2007-2017)</td>\n",
       "      <td>FAMILY</td>\n",
       "      <td>4.6</td>\n",
       "      <td>7</td>\n",
       "      <td>7.3M</td>\n",
       "      <td>1,000+</td>\n",
       "      <td>Free</td>\n",
       "      <td>0</td>\n",
       "      <td>Mature 17+</td>\n",
       "      <td>Entertainment</td>\n",
       "      <td>April 11, 2018</td>\n",
       "      <td>1.3</td>\n",
       "      <td>4.0.3 and up</td>\n",
       "    </tr>\n",
       "    <tr>\n",
       "      <th>2487</th>\n",
       "      <td>Anthem BC Anywhere</td>\n",
       "      <td>MEDICAL</td>\n",
       "      <td>2.6</td>\n",
       "      <td>496</td>\n",
       "      <td>24M</td>\n",
       "      <td>100,000+</td>\n",
       "      <td>Free</td>\n",
       "      <td>0</td>\n",
       "      <td>Everyone</td>\n",
       "      <td>Medical</td>\n",
       "      <td>July 27, 2018</td>\n",
       "      <td>8.0.226</td>\n",
       "      <td>4.4 and up</td>\n",
       "    </tr>\n",
       "  </tbody>\n",
       "</table>\n",
       "</div>"
      ],
      "text/plain": [
       "                                                    App           Category  \\\n",
       "4996                     AE Jewels 2: Island Adventures               GAME   \n",
       "9879                                   Passenger rights   TRAVEL_AND_LOCAL   \n",
       "55    Tickets SDA 2018 and Exam from the State Traff...  AUTO_AND_VEHICLES   \n",
       "4274                         J. Cole Albums (2007-2017)             FAMILY   \n",
       "2487                                 Anthem BC Anywhere            MEDICAL   \n",
       "\n",
       "      Rating Reviews  Size  Installs  Type Price Content Rating  \\\n",
       "4996     4.2     652   30M   10,000+  Free     0       Everyone   \n",
       "9879     3.9     442  2.5M   50,000+  Free     0       Everyone   \n",
       "55       4.9   10479   33M  100,000+  Free     0       Everyone   \n",
       "4274     4.6       7  7.3M    1,000+  Free     0     Mature 17+   \n",
       "2487     2.6     496   24M  100,000+  Free     0       Everyone   \n",
       "\n",
       "               Genres       Last Updated Current Ver   Android Ver  \n",
       "4996           Action  February 24, 2016         1.0    2.3 and up  \n",
       "9879   Travel & Local   January 16, 2018       1.1.3  4.0.3 and up  \n",
       "55    Auto & Vehicles      July 18, 2018       1.7.1    4.0 and up  \n",
       "4274    Entertainment     April 11, 2018         1.3  4.0.3 and up  \n",
       "2487          Medical      July 27, 2018     8.0.226    4.4 and up  "
      ]
     },
     "execution_count": 549,
     "metadata": {},
     "output_type": "execute_result"
    }
   ],
   "source": [
    "data = pd.read_csv(\"data/googleplaystore.csv\")\n",
    "data.sample(5)"
   ]
  },
  {
   "cell_type": "markdown",
   "metadata": {},
   "source": [
    "<div style=\"background-color: #FF3CAC; background-image: linear-gradient(225deg, #FF3CAC 0%, #784BA0 50%, #2B86C5 100%); padding: 15px; border-radius: 10px\"> \n",
    "    <h2 style=\"color:white;\">2. Dataset Discovery</h2>\n",
    "    <strong style=\"color:white\">dicovering the dataset and get a notion of what the attributes describe.</strong>\n",
    "</div>"
   ]
  },
  {
   "cell_type": "code",
   "execution_count": 550,
   "metadata": {},
   "outputs": [
    {
     "data": {
      "text/plain": [
       "App               10841\n",
       "Category          10841\n",
       "Rating             9367\n",
       "Reviews           10841\n",
       "Size              10841\n",
       "Installs          10841\n",
       "Type              10840\n",
       "Price             10841\n",
       "Content Rating    10840\n",
       "Genres            10841\n",
       "Last Updated      10841\n",
       "Current Ver       10833\n",
       "Android Ver       10838\n",
       "dtype: int64"
      ]
     },
     "execution_count": 550,
     "metadata": {},
     "output_type": "execute_result"
    }
   ],
   "source": [
    "data.count()"
   ]
  },
  {
   "cell_type": "code",
   "execution_count": 551,
   "metadata": {},
   "outputs": [
    {
     "data": {
      "text/html": [
       "<div>\n",
       "<style scoped>\n",
       "    .dataframe tbody tr th:only-of-type {\n",
       "        vertical-align: middle;\n",
       "    }\n",
       "\n",
       "    .dataframe tbody tr th {\n",
       "        vertical-align: top;\n",
       "    }\n",
       "\n",
       "    .dataframe thead th {\n",
       "        text-align: right;\n",
       "    }\n",
       "</style>\n",
       "<table border=\"1\" class=\"dataframe\">\n",
       "  <thead>\n",
       "    <tr style=\"text-align: right;\">\n",
       "      <th></th>\n",
       "      <th>Rating</th>\n",
       "    </tr>\n",
       "  </thead>\n",
       "  <tbody>\n",
       "    <tr>\n",
       "      <th>count</th>\n",
       "      <td>9367.000000</td>\n",
       "    </tr>\n",
       "    <tr>\n",
       "      <th>mean</th>\n",
       "      <td>4.193338</td>\n",
       "    </tr>\n",
       "    <tr>\n",
       "      <th>std</th>\n",
       "      <td>0.537431</td>\n",
       "    </tr>\n",
       "    <tr>\n",
       "      <th>min</th>\n",
       "      <td>1.000000</td>\n",
       "    </tr>\n",
       "    <tr>\n",
       "      <th>25%</th>\n",
       "      <td>4.000000</td>\n",
       "    </tr>\n",
       "    <tr>\n",
       "      <th>50%</th>\n",
       "      <td>4.300000</td>\n",
       "    </tr>\n",
       "    <tr>\n",
       "      <th>75%</th>\n",
       "      <td>4.500000</td>\n",
       "    </tr>\n",
       "    <tr>\n",
       "      <th>max</th>\n",
       "      <td>19.000000</td>\n",
       "    </tr>\n",
       "  </tbody>\n",
       "</table>\n",
       "</div>"
      ],
      "text/plain": [
       "            Rating\n",
       "count  9367.000000\n",
       "mean      4.193338\n",
       "std       0.537431\n",
       "min       1.000000\n",
       "25%       4.000000\n",
       "50%       4.300000\n",
       "75%       4.500000\n",
       "max      19.000000"
      ]
     },
     "execution_count": 551,
     "metadata": {},
     "output_type": "execute_result"
    }
   ],
   "source": [
    "data.describe()"
   ]
  },
  {
   "cell_type": "code",
   "execution_count": 552,
   "metadata": {},
   "outputs": [
    {
     "data": {
      "text/plain": [
       "App                object\n",
       "Category           object\n",
       "Rating            float64\n",
       "Reviews            object\n",
       "Size               object\n",
       "Installs           object\n",
       "Type               object\n",
       "Price              object\n",
       "Content Rating     object\n",
       "Genres             object\n",
       "Last Updated       object\n",
       "Current Ver        object\n",
       "Android Ver        object\n",
       "dtype: object"
      ]
     },
     "execution_count": 552,
     "metadata": {},
     "output_type": "execute_result"
    }
   ],
   "source": [
    "data.dtypes"
   ]
  },
  {
   "cell_type": "markdown",
   "metadata": {},
   "source": [
    "<div style=\"background-color: #FF3CAC; background-image: linear-gradient(225deg, #FF3CAC 0%, #784BA0 50%, #2B86C5 100%); padding: 15px; border-radius: 10px\"> \n",
    "    <h2 style=\"color:white;\">3. Dataset Pre-processing</h2>\n",
    "    <strong style=\"color:white\">dicovering the dataset and get a notion of what the attributes describe.</strong>\n",
    "</div>"
   ]
  },
  {
   "cell_type": "markdown",
   "metadata": {},
   "source": [
    "<div style=\"background-color: #FF3CAC; background-image: linear-gradient(225deg, #FF3CAC 0%, #784BA0 50%, #2B86C5 100%); padding: 15px; border-radius: 10px\"> \n",
    "    <h2 style=\"color:white;\">3.1 Checking for Missing values</h2>\n",
    "</div>"
   ]
  },
  {
   "cell_type": "code",
   "execution_count": 553,
   "metadata": {
    "scrolled": true
   },
   "outputs": [
    {
     "data": {
      "text/plain": [
       "App                  0\n",
       "Category             0\n",
       "Rating            1474\n",
       "Reviews              0\n",
       "Size                 0\n",
       "Installs             0\n",
       "Type                 1\n",
       "Price                0\n",
       "Content Rating       1\n",
       "Genres               0\n",
       "Last Updated         0\n",
       "Current Ver          8\n",
       "Android Ver          3\n",
       "dtype: int64"
      ]
     },
     "execution_count": 553,
     "metadata": {},
     "output_type": "execute_result"
    }
   ],
   "source": [
    "data.isnull().sum(0)"
   ]
  },
  {
   "cell_type": "code",
   "execution_count": 554,
   "metadata": {},
   "outputs": [
    {
     "data": {
      "text/html": [
       "<div>\n",
       "<style scoped>\n",
       "    .dataframe tbody tr th:only-of-type {\n",
       "        vertical-align: middle;\n",
       "    }\n",
       "\n",
       "    .dataframe tbody tr th {\n",
       "        vertical-align: top;\n",
       "    }\n",
       "\n",
       "    .dataframe thead th {\n",
       "        text-align: right;\n",
       "    }\n",
       "</style>\n",
       "<table border=\"1\" class=\"dataframe\">\n",
       "  <thead>\n",
       "    <tr style=\"text-align: right;\">\n",
       "      <th></th>\n",
       "      <th>App</th>\n",
       "      <th>Category</th>\n",
       "      <th>Rating</th>\n",
       "      <th>Reviews</th>\n",
       "      <th>Size</th>\n",
       "      <th>Installs</th>\n",
       "      <th>Type</th>\n",
       "      <th>Price</th>\n",
       "      <th>Content Rating</th>\n",
       "      <th>Genres</th>\n",
       "      <th>Last Updated</th>\n",
       "      <th>Current Ver</th>\n",
       "      <th>Android Ver</th>\n",
       "    </tr>\n",
       "  </thead>\n",
       "  <tbody>\n",
       "    <tr>\n",
       "      <th>23</th>\n",
       "      <td>Mcqueen Coloring pages</td>\n",
       "      <td>ART_AND_DESIGN</td>\n",
       "      <td>NaN</td>\n",
       "      <td>61</td>\n",
       "      <td>7.0M</td>\n",
       "      <td>100,000+</td>\n",
       "      <td>Free</td>\n",
       "      <td>0</td>\n",
       "      <td>Everyone</td>\n",
       "      <td>Art &amp; Design;Action &amp; Adventure</td>\n",
       "      <td>March 7, 2018</td>\n",
       "      <td>1.0.0</td>\n",
       "      <td>4.1 and up</td>\n",
       "    </tr>\n",
       "    <tr>\n",
       "      <th>113</th>\n",
       "      <td>Wrinkles and rejuvenation</td>\n",
       "      <td>BEAUTY</td>\n",
       "      <td>NaN</td>\n",
       "      <td>182</td>\n",
       "      <td>5.7M</td>\n",
       "      <td>100,000+</td>\n",
       "      <td>Free</td>\n",
       "      <td>0</td>\n",
       "      <td>Everyone 10+</td>\n",
       "      <td>Beauty</td>\n",
       "      <td>September 20, 2017</td>\n",
       "      <td>8.0</td>\n",
       "      <td>3.0 and up</td>\n",
       "    </tr>\n",
       "    <tr>\n",
       "      <th>123</th>\n",
       "      <td>Manicure - nail design</td>\n",
       "      <td>BEAUTY</td>\n",
       "      <td>NaN</td>\n",
       "      <td>119</td>\n",
       "      <td>3.7M</td>\n",
       "      <td>50,000+</td>\n",
       "      <td>Free</td>\n",
       "      <td>0</td>\n",
       "      <td>Everyone</td>\n",
       "      <td>Beauty</td>\n",
       "      <td>July 23, 2018</td>\n",
       "      <td>1.3</td>\n",
       "      <td>4.1 and up</td>\n",
       "    </tr>\n",
       "    <tr>\n",
       "      <th>126</th>\n",
       "      <td>Skin Care and Natural Beauty</td>\n",
       "      <td>BEAUTY</td>\n",
       "      <td>NaN</td>\n",
       "      <td>654</td>\n",
       "      <td>7.4M</td>\n",
       "      <td>100,000+</td>\n",
       "      <td>Free</td>\n",
       "      <td>0</td>\n",
       "      <td>Teen</td>\n",
       "      <td>Beauty</td>\n",
       "      <td>July 17, 2018</td>\n",
       "      <td>1.15</td>\n",
       "      <td>4.1 and up</td>\n",
       "    </tr>\n",
       "    <tr>\n",
       "      <th>129</th>\n",
       "      <td>Secrets of beauty, youth and health</td>\n",
       "      <td>BEAUTY</td>\n",
       "      <td>NaN</td>\n",
       "      <td>77</td>\n",
       "      <td>2.9M</td>\n",
       "      <td>10,000+</td>\n",
       "      <td>Free</td>\n",
       "      <td>0</td>\n",
       "      <td>Mature 17+</td>\n",
       "      <td>Beauty</td>\n",
       "      <td>August 8, 2017</td>\n",
       "      <td>2.0</td>\n",
       "      <td>2.3 and up</td>\n",
       "    </tr>\n",
       "  </tbody>\n",
       "</table>\n",
       "</div>"
      ],
      "text/plain": [
       "                                     App        Category  Rating Reviews  \\\n",
       "23                Mcqueen Coloring pages  ART_AND_DESIGN     NaN      61   \n",
       "113            Wrinkles and rejuvenation          BEAUTY     NaN     182   \n",
       "123               Manicure - nail design          BEAUTY     NaN     119   \n",
       "126         Skin Care and Natural Beauty          BEAUTY     NaN     654   \n",
       "129  Secrets of beauty, youth and health          BEAUTY     NaN      77   \n",
       "\n",
       "     Size  Installs  Type Price Content Rating  \\\n",
       "23   7.0M  100,000+  Free     0       Everyone   \n",
       "113  5.7M  100,000+  Free     0   Everyone 10+   \n",
       "123  3.7M   50,000+  Free     0       Everyone   \n",
       "126  7.4M  100,000+  Free     0           Teen   \n",
       "129  2.9M   10,000+  Free     0     Mature 17+   \n",
       "\n",
       "                              Genres        Last Updated Current Ver  \\\n",
       "23   Art & Design;Action & Adventure       March 7, 2018       1.0.0   \n",
       "113                           Beauty  September 20, 2017         8.0   \n",
       "123                           Beauty       July 23, 2018         1.3   \n",
       "126                           Beauty       July 17, 2018        1.15   \n",
       "129                           Beauty      August 8, 2017         2.0   \n",
       "\n",
       "    Android Ver  \n",
       "23   4.1 and up  \n",
       "113  3.0 and up  \n",
       "123  4.1 and up  \n",
       "126  4.1 and up  \n",
       "129  2.3 and up  "
      ]
     },
     "execution_count": 554,
     "metadata": {},
     "output_type": "execute_result"
    }
   ],
   "source": [
    "data[data[\"Rating\"].isnull()].head()"
   ]
  },
  {
   "cell_type": "markdown",
   "metadata": {},
   "source": [
    "<div style=\"background-image: linear-gradient(to right, #f78ca0 0%, #f9748f 19%, #fd868c 60%, #fe9a8b 100%); padding: 20px; border-radius: 15px\">\n",
    "    <p style=\"color:white\">There are no missing reviews. However, there're missing rating values. Google play store forces you to rate an app if you're wiritng a review.<strong> Something must have gone wrong during data scraping for the rating values to be missing.</strong> We decided to leave the value as is.</p>\n",
    "    </div>"
   ]
  },
  {
   "cell_type": "markdown",
   "metadata": {},
   "source": [
    "<div style=\"background-color: #FF3CAC; background-image: linear-gradient(225deg, #FF3CAC 0%, #784BA0 50%, #2B86C5 100%); padding: 15px; border-radius: 10px\"> \n",
    "    <h2 style=\"color:white;\">3.2 Checking for duplicate values</h2>\n",
    "</div>"
   ]
  },
  {
   "cell_type": "code",
   "execution_count": 555,
   "metadata": {},
   "outputs": [
    {
     "data": {
      "text/plain": [
       "False    10358\n",
       "True       483\n",
       "dtype: int64"
      ]
     },
     "execution_count": 555,
     "metadata": {},
     "output_type": "execute_result"
    }
   ],
   "source": [
    "data.duplicated().value_counts()"
   ]
  },
  {
   "cell_type": "code",
   "execution_count": 556,
   "metadata": {},
   "outputs": [],
   "source": [
    "data.drop_duplicates(inplace=True)"
   ]
  },
  {
   "cell_type": "code",
   "execution_count": 557,
   "metadata": {},
   "outputs": [
    {
     "data": {
      "text/plain": [
       "False    9660\n",
       "True      698\n",
       "Name: App, dtype: int64"
      ]
     },
     "execution_count": 557,
     "metadata": {},
     "output_type": "execute_result"
    }
   ],
   "source": [
    "data[\"App\"].duplicated().value_counts()"
   ]
  },
  {
   "cell_type": "code",
   "execution_count": 558,
   "metadata": {
    "scrolled": true
   },
   "outputs": [],
   "source": [
    "duplicated_app = data[data[\"App\"].duplicated()].sort_values(\"App\")"
   ]
  },
  {
   "cell_type": "markdown",
   "metadata": {},
   "source": [
    "<div style=\"background-image: linear-gradient(to right, #f78ca0 0%, #f9748f 19%, #fd868c 60%, #fe9a8b 100%); padding: 20px; border-radius: 15px\">\n",
    "    <p style=\"color:white\"><strong>We found that there're still some duplicate values based on the app name. After further investigation we found that the difference is the number of reviews. So, we dropped the duplicate rows and chose the row with the highest number of reviews to keep.</strong></p>\n",
    "        <p style=\"color:white\"><strong>We first had to transform Reviews into a numeric column type and fix string values.</strong></p>\n",
    "    </div>"
   ]
  },
  {
   "cell_type": "markdown",
   "metadata": {},
   "source": [
    "<div style=\"background-color: #FF3CAC; background-image: linear-gradient(225deg, #FF3CAC 0%, #784BA0 50%, #2B86C5 100%); padding: 15px; border-radius: 10px\"> \n",
    "    <h2 style=\"color:white;\">3.1 Checking for Missing values</h2>\n",
    "</div>"
   ]
  },
  {
   "cell_type": "code",
   "execution_count": 559,
   "metadata": {
    "scrolled": true
   },
   "outputs": [
    {
     "data": {
      "text/html": [
       "<div>\n",
       "<style scoped>\n",
       "    .dataframe tbody tr th:only-of-type {\n",
       "        vertical-align: middle;\n",
       "    }\n",
       "\n",
       "    .dataframe tbody tr th {\n",
       "        vertical-align: top;\n",
       "    }\n",
       "\n",
       "    .dataframe thead th {\n",
       "        text-align: right;\n",
       "    }\n",
       "</style>\n",
       "<table border=\"1\" class=\"dataframe\">\n",
       "  <thead>\n",
       "    <tr style=\"text-align: right;\">\n",
       "      <th></th>\n",
       "      <th>App</th>\n",
       "      <th>Category</th>\n",
       "      <th>Rating</th>\n",
       "      <th>Reviews</th>\n",
       "      <th>Size</th>\n",
       "      <th>Installs</th>\n",
       "      <th>Type</th>\n",
       "      <th>Price</th>\n",
       "      <th>Content Rating</th>\n",
       "      <th>Genres</th>\n",
       "      <th>Last Updated</th>\n",
       "      <th>Current Ver</th>\n",
       "      <th>Android Ver</th>\n",
       "    </tr>\n",
       "  </thead>\n",
       "  <tbody>\n",
       "    <tr>\n",
       "      <th>10472</th>\n",
       "      <td>Life Made WI-Fi Touchscreen Photo Frame</td>\n",
       "      <td>1.9</td>\n",
       "      <td>19.0</td>\n",
       "      <td>3.0M</td>\n",
       "      <td>1,000+</td>\n",
       "      <td>Free</td>\n",
       "      <td>0</td>\n",
       "      <td>Everyone</td>\n",
       "      <td>NaN</td>\n",
       "      <td>February 11, 2018</td>\n",
       "      <td>1.0.19</td>\n",
       "      <td>4.0 and up</td>\n",
       "      <td>NaN</td>\n",
       "    </tr>\n",
       "  </tbody>\n",
       "</table>\n",
       "</div>"
      ],
      "text/plain": [
       "                                           App Category  Rating Reviews  \\\n",
       "10472  Life Made WI-Fi Touchscreen Photo Frame      1.9    19.0    3.0M   \n",
       "\n",
       "         Size Installs Type     Price Content Rating             Genres  \\\n",
       "10472  1,000+     Free    0  Everyone            NaN  February 11, 2018   \n",
       "\n",
       "      Last Updated Current Ver Android Ver  \n",
       "10472       1.0.19  4.0 and up         NaN  "
      ]
     },
     "execution_count": 559,
     "metadata": {},
     "output_type": "execute_result"
    }
   ],
   "source": [
    "data[data['Reviews'].str.contains('[a-zA-Z]')]"
   ]
  },
  {
   "cell_type": "code",
   "execution_count": 560,
   "metadata": {
    "scrolled": true
   },
   "outputs": [],
   "source": [
    "replacement = dict(M=10**6)\n",
    "data[\"Reviews\"] = data[\"Reviews\"].replace(replacement, regex=True).astype(int)"
   ]
  },
  {
   "cell_type": "code",
   "execution_count": 561,
   "metadata": {},
   "outputs": [],
   "source": [
    "ordered_slice = data.sort_values(['App', 'Reviews'], ascending=[False, False])\n",
    "data = ordered_slice.drop_duplicates([\"App\"])"
   ]
  },
  {
   "cell_type": "code",
   "execution_count": 562,
   "metadata": {
    "scrolled": false
   },
   "outputs": [
    {
     "data": {
      "text/plain": [
       "False    9660\n",
       "Name: App, dtype: int64"
      ]
     },
     "execution_count": 562,
     "metadata": {},
     "output_type": "execute_result"
    }
   ],
   "source": [
    "data[\"App\"].duplicated().value_counts()"
   ]
  },
  {
   "cell_type": "markdown",
   "metadata": {},
   "source": [
    "<div style=\"background-color: #FF3CAC; background-image: linear-gradient(225deg, #FF3CAC 0%, #784BA0 50%, #2B86C5 100%); padding: 15px; border-radius: 10px\"> \n",
    "    <h2 style=\"color:white;\">3.3 Data Cleaning</h2>\n",
    "    <ol style=\"color: white; font-weight: bold;\">\n",
    "        <li>Change all <em>size</em> values to MB with a numeric type</li>\n",
    "        <li>Remove all + signs from installs and change the column type into a numeric type</li>\n",
    "        <li>Remove Dollar values from price column</li>\n",
    "        <li>Engineer genres so that they're a single value per row</li>\n",
    "        <li>Change formatting and type of column date</li>\n",
    "    </ol>\n",
    "</div>"
   ]
  },
  {
   "cell_type": "markdown",
   "metadata": {},
   "source": [
    "<div style=\"background-color: #FF3CAC; background-image: linear-gradient(225deg, #FF3CAC 0%, #784BA0 50%, #2B86C5 100%); padding: 15px; border-radius: 10px\"> \n",
    "    <h3 style=\"color:white;\">3.3.1 Change all <em>size</em> values to MB with a numeric type</h3>\n",
    "</div>"
   ]
  },
  {
   "cell_type": "code",
   "execution_count": 563,
   "metadata": {
    "scrolled": true
   },
   "outputs": [
    {
     "data": {
      "text/plain": [
       "True     8432\n",
       "False    1228\n",
       "Name: Size, dtype: int64"
      ]
     },
     "execution_count": 563,
     "metadata": {},
     "output_type": "execute_result"
    }
   ],
   "source": [
    "data[\"Size\"].str.contains(\"[Mk+]\").value_counts()"
   ]
  },
  {
   "cell_type": "code",
   "execution_count": 564,
   "metadata": {
    "scrolled": true
   },
   "outputs": [
    {
     "data": {
      "text/html": [
       "<div>\n",
       "<style scoped>\n",
       "    .dataframe tbody tr th:only-of-type {\n",
       "        vertical-align: middle;\n",
       "    }\n",
       "\n",
       "    .dataframe tbody tr th {\n",
       "        vertical-align: top;\n",
       "    }\n",
       "\n",
       "    .dataframe thead th {\n",
       "        text-align: right;\n",
       "    }\n",
       "</style>\n",
       "<table border=\"1\" class=\"dataframe\">\n",
       "  <thead>\n",
       "    <tr style=\"text-align: right;\">\n",
       "      <th></th>\n",
       "      <th>App</th>\n",
       "      <th>Category</th>\n",
       "      <th>Rating</th>\n",
       "      <th>Reviews</th>\n",
       "      <th>Size</th>\n",
       "      <th>Installs</th>\n",
       "      <th>Type</th>\n",
       "      <th>Price</th>\n",
       "      <th>Content Rating</th>\n",
       "      <th>Genres</th>\n",
       "      <th>Last Updated</th>\n",
       "      <th>Current Ver</th>\n",
       "      <th>Android Ver</th>\n",
       "    </tr>\n",
       "  </thead>\n",
       "  <tbody>\n",
       "    <tr>\n",
       "      <th>10472</th>\n",
       "      <td>Life Made WI-Fi Touchscreen Photo Frame</td>\n",
       "      <td>1.9</td>\n",
       "      <td>19.0</td>\n",
       "      <td>1000000</td>\n",
       "      <td>1,000+</td>\n",
       "      <td>Free</td>\n",
       "      <td>0</td>\n",
       "      <td>Everyone</td>\n",
       "      <td>NaN</td>\n",
       "      <td>February 11, 2018</td>\n",
       "      <td>1.0.19</td>\n",
       "      <td>4.0 and up</td>\n",
       "      <td>NaN</td>\n",
       "    </tr>\n",
       "  </tbody>\n",
       "</table>\n",
       "</div>"
      ],
      "text/plain": [
       "                                           App Category  Rating  Reviews  \\\n",
       "10472  Life Made WI-Fi Touchscreen Photo Frame      1.9    19.0  1000000   \n",
       "\n",
       "         Size Installs Type     Price Content Rating             Genres  \\\n",
       "10472  1,000+     Free    0  Everyone            NaN  February 11, 2018   \n",
       "\n",
       "      Last Updated Current Ver Android Ver  \n",
       "10472       1.0.19  4.0 and up         NaN  "
      ]
     },
     "execution_count": 564,
     "metadata": {},
     "output_type": "execute_result"
    }
   ],
   "source": [
    "data[data[\"Size\"].str.contains(\"+\", regex=False)]"
   ]
  },
  {
   "cell_type": "markdown",
   "metadata": {},
   "source": [
    "<div style=\"background-image: linear-gradient(to right, #f78ca0 0%, #f9748f 19%, #fd868c 60%, #fe9a8b 100%); padding: 20px; border-radius: 15px\">\n",
    "    <p style=\"color:white\">Upon further investigation to row 10472 we found it to have a number of values that don't make sense. <strong>Thus, we decided to drop it.</strong></p>\n",
    "    </div>"
   ]
  },
  {
   "cell_type": "code",
   "execution_count": 565,
   "metadata": {},
   "outputs": [],
   "source": [
    "data = data.drop(10472)"
   ]
  },
  {
   "cell_type": "code",
   "execution_count": 566,
   "metadata": {
    "scrolled": false
   },
   "outputs": [
    {
     "data": {
      "text/plain": [
       "(1228, 13)"
      ]
     },
     "execution_count": 566,
     "metadata": {},
     "output_type": "execute_result"
    }
   ],
   "source": [
    "data[data[\"Size\"] == \"Varies with device\"].shape"
   ]
  },
  {
   "cell_type": "markdown",
   "metadata": {},
   "source": [
    "<div style=\"background-image: linear-gradient(to right, #f78ca0 0%, #f9748f 19%, #fd868c 60%, #fe9a8b 100%); padding: 20px; border-radius: 15px\">\n",
    "    <p style=\"color:white\">Values of size are either in KB or in MB. There are however string values such as <em>varies with device</em>. There are apps that have sizes varying per device as they follow the AAB format not the APK one.<strong> We'll change all KB values to MB and <em>varies with device</em> to zero.</strong></p>\n",
    "    </div>"
   ]
  },
  {
   "cell_type": "code",
   "execution_count": 567,
   "metadata": {
    "scrolled": true
   },
   "outputs": [],
   "source": [
    "data[\"Size\"] = data.Size.replace(\"Varies with device\", \"0\")"
   ]
  },
  {
   "cell_type": "code",
   "execution_count": 568,
   "metadata": {
    "scrolled": true
   },
   "outputs": [],
   "source": [
    "replacement = dict(M=1, k=0.001)\n",
    "data[\"Size\"] = data[\"Size\"].replace(\"[Mk]\", \"\", regex=True).astype(float) * data[\"Size\"].replace(replacement, regex=True).fillna(1).astype(float)"
   ]
  },
  {
   "cell_type": "markdown",
   "metadata": {},
   "source": [
    "<div style=\"background-color: #FF3CAC; background-image: linear-gradient(225deg, #FF3CAC 0%, #784BA0 50%, #2B86C5 100%); padding: 15px; border-radius: 10px\"> \n",
    "    <h3 style=\"color:white;\">3.3.2 Remove all + signs from <em>installs</em> and change the column type into a numeric type</h3>\n",
    "</div>"
   ]
  },
  {
   "cell_type": "code",
   "execution_count": 569,
   "metadata": {},
   "outputs": [],
   "source": [
    "data[\"Installs\"] = data[\"Installs\"].str.replace(\"+\", \"\")\n",
    "data[\"Installs\"] = data[\"Installs\"].str.replace(\",\", \"\").astype(int)"
   ]
  },
  {
   "cell_type": "markdown",
   "metadata": {},
   "source": [
    "<div style=\"background-color: #FF3CAC; background-image: linear-gradient(225deg, #FF3CAC 0%, #784BA0 50%, #2B86C5 100%); padding: 15px; border-radius: 10px\"> \n",
    "    <h3 style=\"color:white;\">3.3.3 Remove Dollar values from price column</h3>\n",
    "</div>"
   ]
  },
  {
   "cell_type": "code",
   "execution_count": 570,
   "metadata": {
    "scrolled": true
   },
   "outputs": [
    {
     "data": {
      "text/plain": [
       "array(['0', '$399.99', '$1.49', '$2.99', '$1.99', '$1.20', '$0.99',\n",
       "       '$4.29', '$4.99', '$4.49', '$3.99', '$10.00', '$154.99', '$1.96',\n",
       "       '$5.49', '$19.40', '$5.99', '$12.99', '$2.50', '$19.99', '$2.56',\n",
       "       '$9.99', '$1.04', '$2.90', '$1.00', '$2.49', '$79.99', '$8.99',\n",
       "       '$16.99', '$1.97', '$3.49', '$17.99', '$6.99', '$6.49', '$2.95',\n",
       "       '$4.59', '$4.85', '$7.49', '$10.99', '$4.84', '$1.76', '$7.99',\n",
       "       '$29.99', '$4.60', '$3.02', '$14.99', '$39.99', '$1.70', '$15.99',\n",
       "       '$24.99', '$9.00', '$1.59', '$8.49', '$1.61', '$89.99', '$74.99',\n",
       "       '$15.46', '$1.26', '$400.00', '$299.99', '$379.99', '$18.99',\n",
       "       '$37.99', '$389.99', '$25.99', '$3.88', '$13.99', '$2.00',\n",
       "       '$30.99', '$394.99', '$11.99', '$4.77', '$3.61', '$200.00',\n",
       "       '$28.99', '$46.99', '$3.28', '$3.95', '$14.00', '$2.59', '$4.80',\n",
       "       '$109.99', '$1.75', '$3.90', '$1.50', '$1.29', '$2.60', '$19.90',\n",
       "       '$5.00', '$3.04', '$33.99', '$3.08'], dtype=object)"
      ]
     },
     "execution_count": 570,
     "metadata": {},
     "output_type": "execute_result"
    }
   ],
   "source": [
    "data[\"Price\"].unique()"
   ]
  },
  {
   "cell_type": "code",
   "execution_count": 571,
   "metadata": {},
   "outputs": [],
   "source": [
    "data[\"Price\"] = data[\"Price\"].str.replace(\"$\", \"\").astype(float)"
   ]
  },
  {
   "cell_type": "markdown",
   "metadata": {},
   "source": [
    "<div style=\"background-color: #FF3CAC; background-image: linear-gradient(225deg, #FF3CAC 0%, #784BA0 50%, #2B86C5 100%); padding: 15px; border-radius: 10px\"> \n",
    "    <h3 style=\"color:white;\">3.3.4 Engineer genres so that they're a single value per row</h3>\n",
    "</div>"
   ]
  },
  {
   "cell_type": "code",
   "execution_count": 572,
   "metadata": {},
   "outputs": [
    {
     "data": {
      "text/plain": [
       "array(['Entertainment', 'Tools', 'Social', 'Lifestyle',\n",
       "       'Video Players & Editors', 'Comics', 'Education',\n",
       "       'Books & Reference', 'Communication', 'Maps & Navigation',\n",
       "       'House & Home', 'Shopping', 'Simulation', 'Adventure',\n",
       "       'Art & Design', 'Strategy', 'News & Magazines', 'Auto & Vehicles',\n",
       "       'Action', 'Finance', 'Food & Drink', 'Arcade', 'Weather',\n",
       "       'Personalization', 'Educational', 'Events', 'Medical',\n",
       "       'Travel & Local', 'Sports', 'Casual', 'Puzzle', 'Dating',\n",
       "       'Business', 'Productivity', 'Photography', 'Beauty',\n",
       "       'Education;Education', 'Health & Fitness', 'Libraries & Demo',\n",
       "       'Educational;Education', 'Casino', 'Parenting;Education', 'Trivia',\n",
       "       'Entertainment;Music & Video', 'Racing;Action & Adventure',\n",
       "       'Books & Reference;Creativity', 'Puzzle;Action & Adventure',\n",
       "       'Card', 'Board;Pretend Play', 'Word', 'Puzzle;Brain Games',\n",
       "       'Role Playing', 'Board;Action & Adventure', 'Parenting', 'Racing',\n",
       "       'Arcade;Action & Adventure', 'Board',\n",
       "       'Video Players & Editors;Creativity', 'Comics;Creativity',\n",
       "       'Art & Design;Creativity', 'Board;Brain Games',\n",
       "       'Simulation;Education', 'Adventure;Action & Adventure',\n",
       "       'Casual;Action & Adventure', 'Simulation;Pretend Play',\n",
       "       'Casual;Brain Games', 'Music & Audio;Music & Video',\n",
       "       'Educational;Creativity', 'Education;Pretend Play',\n",
       "       'Educational;Pretend Play', 'Education;Creativity',\n",
       "       'Adventure;Brain Games', 'Action;Action & Adventure',\n",
       "       'Strategy;Action & Adventure', 'Lifestyle;Pretend Play',\n",
       "       'Health & Fitness;Education', 'Casual;Pretend Play',\n",
       "       'Role Playing;Action & Adventure', 'Music',\n",
       "       'Simulation;Action & Adventure', 'Entertainment;Brain Games',\n",
       "       'Entertainment;Creativity', 'Music;Music & Video',\n",
       "       'Education;Music & Video', 'Educational;Brain Games',\n",
       "       'Casual;Education', 'Education;Brain Games',\n",
       "       'Entertainment;Action & Adventure', 'Entertainment;Pretend Play',\n",
       "       'Lifestyle;Education', 'Puzzle;Education', 'Casual;Creativity',\n",
       "       'Education;Action & Adventure', 'Sports;Action & Adventure',\n",
       "       'Tools;Education', 'Parenting;Music & Video',\n",
       "       'Parenting;Brain Games', 'Role Playing;Pretend Play',\n",
       "       'Communication;Creativity', 'Art & Design;Action & Adventure',\n",
       "       'Strategy;Education', 'Racing;Pretend Play', 'Adventure;Education',\n",
       "       'Role Playing;Education', 'Video Players & Editors;Music & Video',\n",
       "       'Role Playing;Brain Games', 'Educational;Action & Adventure',\n",
       "       'Entertainment;Education', 'Arcade;Pretend Play',\n",
       "       'Casual;Music & Video', 'Strategy;Creativity',\n",
       "       'Books & Reference;Education',\n",
       "       'Health & Fitness;Action & Adventure', 'Puzzle;Creativity',\n",
       "       'Art & Design;Pretend Play', 'Card;Action & Adventure',\n",
       "       'Trivia;Education', 'Travel & Local;Action & Adventure'],\n",
       "      dtype=object)"
      ]
     },
     "execution_count": 572,
     "metadata": {},
     "output_type": "execute_result"
    }
   ],
   "source": [
    "genres = data[\"Genres\"].unique()\n",
    "genres"
   ]
  },
  {
   "cell_type": "code",
   "execution_count": 573,
   "metadata": {},
   "outputs": [],
   "source": [
    "def length(x):\n",
    "    return len(x.split(\";\"))\n",
    "number_of_genres = np.vectorize(length)"
   ]
  },
  {
   "cell_type": "code",
   "execution_count": 574,
   "metadata": {},
   "outputs": [
    {
     "data": {
      "text/plain": [
       "2"
      ]
     },
     "execution_count": 574,
     "metadata": {},
     "output_type": "execute_result"
    }
   ],
   "source": [
    "number_of_genres(genres).max()"
   ]
  },
  {
   "cell_type": "markdown",
   "metadata": {},
   "source": [
    "<div style=\"background-image: linear-gradient(to right, #f78ca0 0%, #f9748f 19%, #fd868c 60%, #fe9a8b 100%); padding: 20px; border-radius: 15px\">\n",
    "    <p style=\"color:white\">We found that an app has at max 2 genres. <strong>we decided to engineer 2 new features genre1 and genre2, to replace the genre feature.</strong></p>\n",
    "    </div>"
   ]
  },
  {
   "cell_type": "code",
   "execution_count": 575,
   "metadata": {},
   "outputs": [],
   "source": [
    "data[[\"genre1\", \"genre2\"]] = data[\"Genres\"].str.split(\";\", expand=True)"
   ]
  },
  {
   "cell_type": "code",
   "execution_count": 576,
   "metadata": {},
   "outputs": [],
   "source": [
    "data = data.drop(columns=\"Genres\")"
   ]
  },
  {
   "cell_type": "markdown",
   "metadata": {},
   "source": [
    "#### We found some columns having the same genres\n",
    "we decided to remove the values and replace them with a (None) in this case."
   ]
  },
  {
   "cell_type": "markdown",
   "metadata": {},
   "source": [
    "<div style=\"background-image: linear-gradient(to right, #f78ca0 0%, #f9748f 19%, #fd868c 60%, #fe9a8b 100%); padding: 20px; border-radius: 15px\">\n",
    "    <p style=\"color:white\">Some columns had the same value for both genre1 and genre2 <strong>we decided to replace genre2 with None in this case.</strong></p>\n",
    "    </div>"
   ]
  },
  {
   "cell_type": "code",
   "execution_count": 577,
   "metadata": {},
   "outputs": [
    {
     "data": {
      "text/plain": [
       "(36, 14)"
      ]
     },
     "execution_count": 577,
     "metadata": {},
     "output_type": "execute_result"
    }
   ],
   "source": [
    "data.loc[data[\"genre1\"] == data[\"genre2\"]].shape"
   ]
  },
  {
   "cell_type": "code",
   "execution_count": 578,
   "metadata": {
    "scrolled": true
   },
   "outputs": [
    {
     "data": {
      "text/plain": [
       "(0, 14)"
      ]
     },
     "execution_count": 578,
     "metadata": {},
     "output_type": "execute_result"
    }
   ],
   "source": [
    "data.loc[data[\"genre1\"] == data[\"genre2\"], \"genre2\"] = None\n",
    "data.loc[data[\"genre1\"] == data[\"genre2\"]].shape"
   ]
  },
  {
   "cell_type": "markdown",
   "metadata": {},
   "source": [
    "<div style=\"background-color: #FF3CAC; background-image: linear-gradient(225deg, #FF3CAC 0%, #784BA0 50%, #2B86C5 100%); padding: 15px; border-radius: 10px\"> \n",
    "    <h3 style=\"color:white;\">3.3.5 Change formatting and type of column date</h3>\n",
    "</div>"
   ]
  },
  {
   "cell_type": "code",
   "execution_count": 579,
   "metadata": {},
   "outputs": [
    {
     "data": {
      "text/plain": [
       "False    9659\n",
       "Name: Last Updated, dtype: int64"
      ]
     },
     "execution_count": 579,
     "metadata": {},
     "output_type": "execute_result"
    }
   ],
   "source": [
    "date_expression = \"(January|February|March|April|May|June|July|August|September|October|November|December)\\s+\\d{1,2},\\s+\\d{4}\"\n",
    "data[\"Last Updated\"].str.contains(date_expression, regex=False).value_counts()"
   ]
  },
  {
   "cell_type": "code",
   "execution_count": 580,
   "metadata": {},
   "outputs": [],
   "source": [
    " data[\"Last Updated\"] = pd.to_datetime(data['Last Updated'], format='%B %d, %Y')"
   ]
  },
  {
   "cell_type": "markdown",
   "metadata": {},
   "source": [
    "<div style=\"background-color: #FF3CAC; background-image: linear-gradient(225deg, #FF3CAC 0%, #784BA0 50%, #2B86C5 100%); padding: 15px; border-radius: 10px\"> \n",
    "    <h2 style=\"color:white;\">4. Dataset Visualization</h2>\n",
    "    <strong style=\"color:white\">Asking questions and aswering them.</strong>\n",
    "    <ol style=\"color: white; font-weight: bold\">\n",
    "        <li>Scatter Matrix</li>\n",
    "        <li>Percentage of free to paid apps</li>\n",
    "        <li>Number of installs for paid vs free apps</li>\n",
    "        <li>The dominant category</li>\n",
    "    </ol>\n",
    "</div>"
   ]
  },
  {
   "cell_type": "code",
   "execution_count": 640,
   "metadata": {},
   "outputs": [],
   "source": [
    "plt.rcParams['figure.figsize']=(10,10)"
   ]
  },
  {
   "cell_type": "markdown",
   "metadata": {},
   "source": [
    "<div style=\"background-color: #FF3CAC; background-image: linear-gradient(225deg, #FF3CAC 0%, #784BA0 50%, #2B86C5 100%); padding: 15px; border-radius: 10px\"> \n",
    "    <h2 style=\"color:white;\">4.1 Scatter Matrix</h2>\n",
    "</div>"
   ]
  },
  {
   "cell_type": "code",
   "execution_count": 641,
   "metadata": {},
   "outputs": [
    {
     "data": {
      "text/plain": [
       "<seaborn.axisgrid.PairGrid at 0x7efc1f3ee198>"
      ]
     },
     "execution_count": 641,
     "metadata": {},
     "output_type": "execute_result"
    },
    {
     "data": {
      "image/png": "[encoded data removed]",
      "text/plain": [
       "<Figure size 958.125x900 with 30 Axes>"
      ]
     },
     "metadata": {
      "needs_background": "light"
     },
     "output_type": "display_data"
    }
   ],
   "source": [
    "sns.pairplot(data, hue=\"Type\", palette=\"GnBu\")"
   ]
  },
  {
   "cell_type": "markdown",
   "metadata": {},
   "source": [
    "<div style=\"background-color: #FF3CAC; background-image: linear-gradient(225deg, #FF3CAC 0%, #784BA0 50%, #2B86C5 100%); padding: 15px; border-radius: 10px\"> \n",
    "    <h2 style=\"color:white;\">4.2 Percentage of free to paid apps</h2>\n",
    "</div>"
   ]
  },
  {
   "cell_type": "code",
   "execution_count": 642,
   "metadata": {},
   "outputs": [
    {
     "data": {
      "image/png": "[encoded data removed]",
      "text/plain": [
       "<Figure size 720x720 with 1 Axes>"
      ]
     },
     "metadata": {},
     "output_type": "display_data"
    }
   ],
   "source": [
    "size = data[\"Type\"].value_counts()\n",
    "labels = data[\"Type\"].unique()[0:2]\n",
    "\n",
    "colors=[\"#43a6cc\", \"#bae4bf\"]\n",
    "\n",
    "plt.pie(size, labels=labels, colors=colors, autopct='%1.1f%%')\n",
    "plt.show()"
   ]
  },
  {
   "cell_type": "markdown",
   "metadata": {},
   "source": [
    "<div style=\"background-color: #FF3CAC; background-image: linear-gradient(225deg, #FF3CAC 0%, #784BA0 50%, #2B86C5 100%); padding: 15px; border-radius: 10px\"> \n",
    "    <h2 style=\"color:white;\">4.4 The dominant category</h2>\n",
    "</div>"
   ]
  },
  {
   "cell_type": "code",
   "execution_count": 648,
   "metadata": {
    "scrolled": false
   },
   "outputs": [
    {
     "data": {
      "text/plain": [
       "<matplotlib.axes._subplots.AxesSubplot at 0x7efc1d1a3048>"
      ]
     },
     "execution_count": 648,
     "metadata": {},
     "output_type": "execute_result"
    },
    {
     "data": {
      "image/png": "[encoded data removed]",
      "text/plain": [
       "<Figure size 720x720 with 1 Axes>"
      ]
     },
     "metadata": {
      "needs_background": "light"
     },
     "output_type": "display_data"
    }
   ],
   "source": [
    "categories = data[\"Category\"].value_counts()\n",
    "sns.barplot(x=categories.values, y=categories.index, palette=\"GnBu\")"
   ]
  }
 ],
 "metadata": {
  "kernelspec": {
   "display_name": "Python 3",
   "language": "python",
   "name": "python3"
  },
  "language_info": {
   "codemirror_mode": {
    "name": "ipython",
    "version": 3
   },
   "file_extension": ".py",
   "mimetype": "text/x-python",
   "name": "python",
   "nbconvert_exporter": "python",
   "pygments_lexer": "ipython3",
   "version": "3.7.1"
  }
 },
 "nbformat": 4,
 "nbformat_minor": 2
}
